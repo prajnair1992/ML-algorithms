{
 "cells": [
  {
   "cell_type": "markdown",
   "metadata": {},
   "source": [
    "## Strengths, weaknesses and parameters"
   ]
  },
  {
   "cell_type": "markdown",
   "metadata": {},
   "source": [
    "- The main parameter of Linear models is the regularization parameter, called alpha in regression models and C in LinearSVC and LogisticRegression.\n",
    "- Large values for alpha or small values for C means simple models.\n",
    "- Usually C and alpha are searched for on a logarithmic scale.\n",
    "- We also need to decide to either go with L1 regularization or L2 regularization.\n",
    "- Use L1 if we know that only few of the features are important, otherwise default to L2.\n",
    "- As L1 uses only few features it is easier to explain which features are important to the model and what the effects of these features are"
   ]
  },
  {
   "cell_type": "markdown",
   "metadata": {},
   "source": [
    "- Linear models are very fast to train and predict. \n",
    "- They scale to very large datasets and work well with sparse data\n",
    "- If there are hundreds of thousands or millions of data, try using the solver='sag' option in Logistic Regression and Ridge, which can be faster than default.\n",
    "- Other options are SGDClassifier and SGDRegressor which implements even more scalable versions of linear models.\n",
    "- Linear models often perform well when the number of features is large compared to the number of samples. \n",
    "- They are also often used on very large datasets, simply because it’s not feasible to train other models."
   ]
  },
  {
   "cell_type": "markdown",
   "metadata": {},
   "source": [
    "- If the dataset has highly correlated features, coefficients can be hard to interpret for Linear models.\n",
    "- In lower-dimensional spaces, other models might yield better generalization performance."
   ]
  },
  {
   "cell_type": "code",
   "execution_count": null,
   "metadata": {},
   "outputs": [],
   "source": []
  }
 ],
 "metadata": {
  "kernelspec": {
   "display_name": "Python 3",
   "language": "python",
   "name": "python3"
  },
  "language_info": {
   "codemirror_mode": {
    "name": "ipython",
    "version": 3
   },
   "file_extension": ".py",
   "mimetype": "text/x-python",
   "name": "python",
   "nbconvert_exporter": "python",
   "pygments_lexer": "ipython3",
   "version": "3.6.10"
  }
 },
 "nbformat": 4,
 "nbformat_minor": 4
}
