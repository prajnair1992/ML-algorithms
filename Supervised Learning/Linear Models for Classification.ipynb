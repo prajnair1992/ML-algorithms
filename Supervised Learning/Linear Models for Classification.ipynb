{
 "cells": [
  {
   "cell_type": "markdown",
   "metadata": {},
   "source": [
    "## Linear models for classification"
   ]
  },
  {
   "cell_type": "markdown",
   "metadata": {},
   "source": [
    "Linear models are also extensively used for classification. \n",
    "\n",
    "**ŷ = w[0] * x[0] + w[1] * x[1] + ... + w[p] * x[p] + b > 0**"
   ]
  },
  {
   "cell_type": "markdown",
   "metadata": {},
   "source": [
    "Instead of just returning the weighted sum of the features, we threshold the predicted value at zero.\n",
    "\n",
    "If the function is smaller than zero, we predict the class –1; if it is larger than zero, we predict the class +1. \n",
    "\n",
    "This prediction rule is common to all linear models for classification. Again, there are many different ways to find the coefficients (w) and the intercept (b)."
   ]
  },
  {
   "cell_type": "markdown",
   "metadata": {},
   "source": [
    "For linear models for regression, the output is a linear function of the features: a line, plane, or hyperplane (in higher dimensions). For linear models for classification, the *decision boundary* is a linear function of the input.\n",
    "\n",
    "In other words, a (binary) linear classifier is **a classifier that separates two classes using a line, a plane, or a hyperplane**."
   ]
  },
  {
   "cell_type": "markdown",
   "metadata": {},
   "source": [
    "There are many algorithms for learning linear models. These algorithms all differ in the following two ways:\n",
    "- The way in which they measure how well a particular combination of coefficients and intercept fits the training data\n",
    "- If and what kind of regularization they use\n",
    "\n",
    "Different algorithms choose different ways to measure what “fitting the training set well” means."
   ]
  },
  {
   "cell_type": "markdown",
   "metadata": {},
   "source": [
    "The most common linear classification algorithms are :\n",
    "- **Logistic Regression** : *linear_model.LogisticRegression*\n",
    "- **Linear SVM** : *svm.LinearSVC*"
   ]
  },
  {
   "cell_type": "code",
   "execution_count": null,
   "metadata": {},
   "outputs": [],
   "source": []
  }
 ],
 "metadata": {
  "kernelspec": {
   "display_name": "Python 3",
   "language": "python",
   "name": "python3"
  },
  "language_info": {
   "codemirror_mode": {
    "name": "ipython",
    "version": 3
   },
   "file_extension": ".py",
   "mimetype": "text/x-python",
   "name": "python",
   "nbconvert_exporter": "python",
   "pygments_lexer": "ipython3",
   "version": "3.6.10"
  }
 },
 "nbformat": 4,
 "nbformat_minor": 4
}
