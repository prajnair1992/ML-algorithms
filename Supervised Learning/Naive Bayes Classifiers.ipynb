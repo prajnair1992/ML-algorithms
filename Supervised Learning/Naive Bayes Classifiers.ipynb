{
 "cells": [
  {
   "cell_type": "markdown",
   "metadata": {},
   "source": [
    "## Naive Bayes Classifers"
   ]
  },
  {
   "cell_type": "markdown",
   "metadata": {},
   "source": [
    "They are a family of classifers that are quite similar to the linear models. However, they tend to be faster in training. The price paid for this efficiency is that **naive Bayes models often provide generalization performance that is slightly worse than that of linear classifiers** like Logistic Regression and Linear SVC."
   ]
  },
  {
   "cell_type": "markdown",
   "metadata": {},
   "source": [
    "The reason that naive Bayes models are so efficient is that **they learn parameters by looking at each feature individually and collect simple per-class statistics from each feature**."
   ]
  },
  {
   "cell_type": "markdown",
   "metadata": {},
   "source": [
    "There are 3 kinds of Naive Bayes classifers implemented in scikit-learn:\n",
    "- **GaussianNB** : can be applied to any continuous data\n",
    "- **BernoulliNB** : assumes binary data\n",
    "- **MultinomialNB** : assumes count data, i.e, each feature represents an integer count of something like words in a sentence etc.\n",
    "\n",
    "BernoulliNB and MultinomialNB are mostly used in text data clasification"
   ]
  },
  {
   "cell_type": "markdown",
   "metadata": {},
   "source": [
    "**Strengths, weaknesses and parameters**"
   ]
  },
  {
   "cell_type": "markdown",
   "metadata": {},
   "source": [
    "- **MultinomialNB and BernoulliNB** have a single parameter, **alpha**, which controls model complexity.\n",
    "- The way alpha works is that the **algorithm adds to the data alpha many virtual data points that have positive values for all the features**. This results in a “smoothing” of the statistics.\n",
    "- A large alpha means more smoothing, resulting in less complex models. \n",
    "- The algorithm’s performance is relatively robust to the setting of alpha, meaning that setting alpha is not critical for good performance. However,**tuning it usually improves accuracy somewhat.\n",
    "- GaussianNB is mostly used on very high-dimensional data, while the other two variants of naive Bayes are widely used for sparse count data such as text. \n",
    "- MultinomialNB usually performs better than BinaryNB, particularly on datasets with a relatively large number of nonzero features (i.e., large documents)."
   ]
  },
  {
   "cell_type": "markdown",
   "metadata": {},
   "source": [
    "- Naive Byes is fast to train and predict. \n",
    "- Models work well with high dimesional data and are relatively robust to the parameters.\n",
    "- Naive Bayes are great baseline models and are often used on very high datasets."
   ]
  },
  {
   "cell_type": "code",
   "execution_count": null,
   "metadata": {},
   "outputs": [],
   "source": []
  },
  {
   "cell_type": "code",
   "execution_count": null,
   "metadata": {},
   "outputs": [],
   "source": []
  },
  {
   "cell_type": "code",
   "execution_count": null,
   "metadata": {},
   "outputs": [],
   "source": []
  },
  {
   "cell_type": "code",
   "execution_count": null,
   "metadata": {},
   "outputs": [],
   "source": []
  }
 ],
 "metadata": {
  "kernelspec": {
   "display_name": "Python 3",
   "language": "python",
   "name": "python3"
  },
  "language_info": {
   "codemirror_mode": {
    "name": "ipython",
    "version": 3
   },
   "file_extension": ".py",
   "mimetype": "text/x-python",
   "name": "python",
   "nbconvert_exporter": "python",
   "pygments_lexer": "ipython3",
   "version": "3.6.10"
  }
 },
 "nbformat": 4,
 "nbformat_minor": 4
}
